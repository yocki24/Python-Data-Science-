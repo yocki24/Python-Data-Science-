{
 "cells": [
  {
   "cell_type": "code",
   "execution_count": 3,
   "metadata": {},
   "outputs": [],
   "source": [
    "import numpy as np\n",
    "import pandas as pd\n",
    "\n",
    "df_train = pd.read_csv('train.csv')\n",
    "df_test = pd.read_csv('test.csv')"
   ]
  },
  {
   "cell_type": "code",
   "execution_count": 4,
   "metadata": {
    "scrolled": true
   },
   "outputs": [
    {
     "data": {
      "text/html": [
       "<div>\n",
       "<style scoped>\n",
       "    .dataframe tbody tr th:only-of-type {\n",
       "        vertical-align: middle;\n",
       "    }\n",
       "\n",
       "    .dataframe tbody tr th {\n",
       "        vertical-align: top;\n",
       "    }\n",
       "\n",
       "    .dataframe thead th {\n",
       "        text-align: right;\n",
       "    }\n",
       "</style>\n",
       "<table border=\"1\" class=\"dataframe\">\n",
       "  <thead>\n",
       "    <tr style=\"text-align: right;\">\n",
       "      <th></th>\n",
       "      <th>id</th>\n",
       "      <th>Umur</th>\n",
       "      <th>Kelas Pekerja</th>\n",
       "      <th>Berat Akhir</th>\n",
       "      <th>Pendidikan</th>\n",
       "      <th>Jmlh Tahun Pendidikan</th>\n",
       "      <th>Status Perkawinan</th>\n",
       "      <th>Pekerjaan</th>\n",
       "      <th>Jenis Kelamin</th>\n",
       "      <th>Keuntungan Kapital</th>\n",
       "      <th>Kerugian Capital</th>\n",
       "      <th>Jam per Minggu</th>\n",
       "      <th>Gaji</th>\n",
       "    </tr>\n",
       "  </thead>\n",
       "  <tbody>\n",
       "    <tr>\n",
       "      <th>0</th>\n",
       "      <td>0</td>\n",
       "      <td>21</td>\n",
       "      <td>Wiraswasta</td>\n",
       "      <td>242912</td>\n",
       "      <td>SMA</td>\n",
       "      <td>9</td>\n",
       "      <td>Belum Pernah Menikah</td>\n",
       "      <td>Servis Lainnya</td>\n",
       "      <td>Perempuan</td>\n",
       "      <td>0.0</td>\n",
       "      <td>0.0</td>\n",
       "      <td>35.0</td>\n",
       "      <td>&lt;=7jt</td>\n",
       "    </tr>\n",
       "    <tr>\n",
       "      <th>1</th>\n",
       "      <td>1</td>\n",
       "      <td>49</td>\n",
       "      <td>Wiraswasta</td>\n",
       "      <td>140782</td>\n",
       "      <td>10th</td>\n",
       "      <td>6</td>\n",
       "      <td>Cerai</td>\n",
       "      <td>Ekesekutif Managerial</td>\n",
       "      <td>Perempuan</td>\n",
       "      <td>0.0</td>\n",
       "      <td>0.0</td>\n",
       "      <td>40.0</td>\n",
       "      <td>&lt;=7jt</td>\n",
       "    </tr>\n",
       "    <tr>\n",
       "      <th>2</th>\n",
       "      <td>2</td>\n",
       "      <td>44</td>\n",
       "      <td>Wiraswasta</td>\n",
       "      <td>120057</td>\n",
       "      <td>D3</td>\n",
       "      <td>12</td>\n",
       "      <td>Menikah</td>\n",
       "      <td>Ekesekutif Managerial</td>\n",
       "      <td>Laki2</td>\n",
       "      <td>61404000.0</td>\n",
       "      <td>0.0</td>\n",
       "      <td>45.0</td>\n",
       "      <td>&gt;7jt</td>\n",
       "    </tr>\n",
       "    <tr>\n",
       "      <th>3</th>\n",
       "      <td>3</td>\n",
       "      <td>24</td>\n",
       "      <td>Wiraswasta</td>\n",
       "      <td>194630</td>\n",
       "      <td>Sarjana</td>\n",
       "      <td>13</td>\n",
       "      <td>Belum Pernah Menikah</td>\n",
       "      <td>Spesialis</td>\n",
       "      <td>Laki2</td>\n",
       "      <td>0.0</td>\n",
       "      <td>0.0</td>\n",
       "      <td>35.0</td>\n",
       "      <td>&lt;=7jt</td>\n",
       "    </tr>\n",
       "    <tr>\n",
       "      <th>4</th>\n",
       "      <td>4</td>\n",
       "      <td>33</td>\n",
       "      <td>Wiraswasta</td>\n",
       "      <td>219619</td>\n",
       "      <td>Master</td>\n",
       "      <td>14</td>\n",
       "      <td>Menikah</td>\n",
       "      <td>Spesialis</td>\n",
       "      <td>Laki2</td>\n",
       "      <td>210336000.0</td>\n",
       "      <td>0.0</td>\n",
       "      <td>40.0</td>\n",
       "      <td>&gt;7jt</td>\n",
       "    </tr>\n",
       "  </tbody>\n",
       "</table>\n",
       "</div>"
      ],
      "text/plain": [
       "   id  Umur Kelas Pekerja  Berat Akhir Pendidikan  Jmlh Tahun Pendidikan  \\\n",
       "0   0    21    Wiraswasta       242912        SMA                      9   \n",
       "1   1    49    Wiraswasta       140782       10th                      6   \n",
       "2   2    44    Wiraswasta       120057         D3                     12   \n",
       "3   3    24    Wiraswasta       194630    Sarjana                     13   \n",
       "4   4    33    Wiraswasta       219619     Master                     14   \n",
       "\n",
       "      Status Perkawinan              Pekerjaan Jenis Kelamin  \\\n",
       "0  Belum Pernah Menikah         Servis Lainnya     Perempuan   \n",
       "1                 Cerai  Ekesekutif Managerial     Perempuan   \n",
       "2               Menikah  Ekesekutif Managerial         Laki2   \n",
       "3  Belum Pernah Menikah              Spesialis         Laki2   \n",
       "4               Menikah              Spesialis         Laki2   \n",
       "\n",
       "   Keuntungan Kapital  Kerugian Capital  Jam per Minggu   Gaji  \n",
       "0                 0.0               0.0            35.0  <=7jt  \n",
       "1                 0.0               0.0            40.0  <=7jt  \n",
       "2          61404000.0               0.0            45.0   >7jt  \n",
       "3                 0.0               0.0            35.0  <=7jt  \n",
       "4         210336000.0               0.0            40.0   >7jt  "
      ]
     },
     "execution_count": 4,
     "metadata": {},
     "output_type": "execute_result"
    }
   ],
   "source": [
    "df_train.head()"
   ]
  },
  {
   "cell_type": "code",
   "execution_count": 5,
   "metadata": {
    "scrolled": true
   },
   "outputs": [
    {
     "data": {
      "text/html": [
       "<div>\n",
       "<style scoped>\n",
       "    .dataframe tbody tr th:only-of-type {\n",
       "        vertical-align: middle;\n",
       "    }\n",
       "\n",
       "    .dataframe tbody tr th {\n",
       "        vertical-align: top;\n",
       "    }\n",
       "\n",
       "    .dataframe thead th {\n",
       "        text-align: right;\n",
       "    }\n",
       "</style>\n",
       "<table border=\"1\" class=\"dataframe\">\n",
       "  <thead>\n",
       "    <tr style=\"text-align: right;\">\n",
       "      <th></th>\n",
       "      <th>id</th>\n",
       "      <th>Umur</th>\n",
       "      <th>Kelas Pekerja</th>\n",
       "      <th>Berat Akhir</th>\n",
       "      <th>Pendidikan</th>\n",
       "      <th>Jmlh Tahun Pendidikan</th>\n",
       "      <th>Status Perkawinan</th>\n",
       "      <th>Pekerjaan</th>\n",
       "      <th>Jenis Kelamin</th>\n",
       "      <th>Keuntungan Kapital</th>\n",
       "      <th>Kerugian Capital</th>\n",
       "      <th>Jam per Minggu</th>\n",
       "    </tr>\n",
       "  </thead>\n",
       "  <tbody>\n",
       "    <tr>\n",
       "      <th>0</th>\n",
       "      <td>35994</td>\n",
       "      <td>30</td>\n",
       "      <td>Pemerintah Lokal</td>\n",
       "      <td>99761</td>\n",
       "      <td>D4</td>\n",
       "      <td>11</td>\n",
       "      <td>Cerai</td>\n",
       "      <td>Pemuka Agama</td>\n",
       "      <td>Perempuan</td>\n",
       "      <td>0.0</td>\n",
       "      <td>0.0</td>\n",
       "      <td>40.0</td>\n",
       "    </tr>\n",
       "    <tr>\n",
       "      <th>1</th>\n",
       "      <td>35995</td>\n",
       "      <td>28</td>\n",
       "      <td>Wiraswasta</td>\n",
       "      <td>202206</td>\n",
       "      <td>SMA</td>\n",
       "      <td>9</td>\n",
       "      <td>Menikah</td>\n",
       "      <td>Mesin Inspeksi</td>\n",
       "      <td>Laki2</td>\n",
       "      <td>0.0</td>\n",
       "      <td>0.0</td>\n",
       "      <td>50.0</td>\n",
       "    </tr>\n",
       "    <tr>\n",
       "      <th>2</th>\n",
       "      <td>35996</td>\n",
       "      <td>34</td>\n",
       "      <td>Pemerintah Provinsi</td>\n",
       "      <td>199934</td>\n",
       "      <td>Pendidikan Tinggi</td>\n",
       "      <td>10</td>\n",
       "      <td>Menikah</td>\n",
       "      <td>Pemuka Agama</td>\n",
       "      <td>Laki2</td>\n",
       "      <td>0.0</td>\n",
       "      <td>0.0</td>\n",
       "      <td>40.0</td>\n",
       "    </tr>\n",
       "    <tr>\n",
       "      <th>3</th>\n",
       "      <td>35997</td>\n",
       "      <td>51</td>\n",
       "      <td>Wiraswasta</td>\n",
       "      <td>373448</td>\n",
       "      <td>Pendidikan Tinggi</td>\n",
       "      <td>10</td>\n",
       "      <td>Menikah</td>\n",
       "      <td>Ekesekutif Managerial</td>\n",
       "      <td>Laki2</td>\n",
       "      <td>0.0</td>\n",
       "      <td>28028000.0</td>\n",
       "      <td>40.0</td>\n",
       "    </tr>\n",
       "    <tr>\n",
       "      <th>4</th>\n",
       "      <td>35998</td>\n",
       "      <td>20</td>\n",
       "      <td>?</td>\n",
       "      <td>144685</td>\n",
       "      <td>Pendidikan Tinggi</td>\n",
       "      <td>10</td>\n",
       "      <td>Belum Pernah Menikah</td>\n",
       "      <td>?</td>\n",
       "      <td>Perempuan</td>\n",
       "      <td>0.0</td>\n",
       "      <td>22428000.0</td>\n",
       "      <td>40.0</td>\n",
       "    </tr>\n",
       "  </tbody>\n",
       "</table>\n",
       "</div>"
      ],
      "text/plain": [
       "      id  Umur        Kelas Pekerja  Berat Akhir         Pendidikan  \\\n",
       "0  35994    30     Pemerintah Lokal        99761                 D4   \n",
       "1  35995    28           Wiraswasta       202206                SMA   \n",
       "2  35996    34  Pemerintah Provinsi       199934  Pendidikan Tinggi   \n",
       "3  35997    51           Wiraswasta       373448  Pendidikan Tinggi   \n",
       "4  35998    20                    ?       144685  Pendidikan Tinggi   \n",
       "\n",
       "   Jmlh Tahun Pendidikan     Status Perkawinan              Pekerjaan  \\\n",
       "0                     11                 Cerai           Pemuka Agama   \n",
       "1                      9               Menikah         Mesin Inspeksi   \n",
       "2                     10               Menikah           Pemuka Agama   \n",
       "3                     10               Menikah  Ekesekutif Managerial   \n",
       "4                     10  Belum Pernah Menikah                      ?   \n",
       "\n",
       "  Jenis Kelamin  Keuntungan Kapital  Kerugian Capital  Jam per Minggu  \n",
       "0     Perempuan                 0.0               0.0            40.0  \n",
       "1         Laki2                 0.0               0.0            50.0  \n",
       "2         Laki2                 0.0               0.0            40.0  \n",
       "3         Laki2                 0.0        28028000.0            40.0  \n",
       "4     Perempuan                 0.0        22428000.0            40.0  "
      ]
     },
     "execution_count": 5,
     "metadata": {},
     "output_type": "execute_result"
    }
   ],
   "source": [
    "df_test.head()"
   ]
  },
  {
   "cell_type": "code",
   "execution_count": 6,
   "metadata": {},
   "outputs": [],
   "source": [
    "x_train = df_train[['id','Umur', 'Berat Akhir', 'Jmlh Tahun Pendidikan', 'Keuntungan Kapital', 'Kerugian Capital', 'Jam per Minggu']]\n",
    "y_train = df_train['Gaji']\n",
    "x_test = df_test[['id','Umur', 'Berat Akhir', 'Jmlh Tahun Pendidikan', 'Keuntungan Kapital', 'Kerugian Capital', 'Jam per Minggu']]"
   ]
  },
  {
   "cell_type": "code",
   "execution_count": 7,
   "metadata": {},
   "outputs": [],
   "source": [
    "from sklearn.neighbors import KNeighborsClassifier\n",
    "from sklearn.tree import DecisionTreeClassifier\n",
    "from sklearn.model_selection import GridSearchCV, RandomizedSearchCV"
   ]
  },
  {
   "cell_type": "code",
   "execution_count": 8,
   "metadata": {},
   "outputs": [
    {
     "data": {
      "text/plain": [
       "GridSearchCV(cv=5, estimator=DecisionTreeClassifier(),\n",
       "             param_grid={'max_depth': array([2, 3, 4, 5, 6, 7, 8, 9]),\n",
       "                         'max_leaf_nodes': array([2, 3, 4, 5, 6, 7, 8, 9]),\n",
       "                         'min_samples_leaf': array([4, 5, 6, 7, 8, 9])},\n",
       "             scoring='accuracy')"
      ]
     },
     "execution_count": 8,
     "metadata": {},
     "output_type": "execute_result"
    }
   ],
   "source": [
    "model = DecisionTreeClassifier()\n",
    "param_grid = {'max_depth':np.arange(2, 10), 'min_samples_leaf':np.arange(4,10), 'max_leaf_nodes':np.arange(2, 10)}\n",
    "gscv = GridSearchCV(model, param_grid=param_grid, scoring='accuracy', cv=5)\n",
    "gscv.fit(x_train, y_train)"
   ]
  },
  {
   "cell_type": "code",
   "execution_count": 9,
   "metadata": {},
   "outputs": [
    {
     "data": {
      "text/plain": [
       "{'max_depth': 5, 'max_leaf_nodes': 9, 'min_samples_leaf': 4}"
      ]
     },
     "execution_count": 9,
     "metadata": {},
     "output_type": "execute_result"
    }
   ],
   "source": [
    "gscv.best_params_"
   ]
  },
  {
   "cell_type": "code",
   "execution_count": 10,
   "metadata": {},
   "outputs": [],
   "source": [
    "y_test=gscv.predict(x_train)"
   ]
  },
  {
   "cell_type": "code",
   "execution_count": 11,
   "metadata": {},
   "outputs": [
    {
     "data": {
      "text/plain": [
       "array(['<=7jt', '<=7jt', '<=7jt', ..., '<=7jt', '<=7jt', '<=7jt'],\n",
       "      dtype=object)"
      ]
     },
     "execution_count": 11,
     "metadata": {},
     "output_type": "execute_result"
    }
   ],
   "source": [
    "y_test"
   ]
  },
  {
   "cell_type": "code",
   "execution_count": 12,
   "metadata": {},
   "outputs": [],
   "source": [
    "y_test2=gscv.predict(x_test)"
   ]
  },
  {
   "cell_type": "code",
   "execution_count": 13,
   "metadata": {},
   "outputs": [
    {
     "name": "stdout",
     "output_type": "stream",
     "text": [
      "['<=7jt' '<=7jt' '<=7jt' ... '<=7jt' '<=7jt' '<=7jt']\n"
     ]
    }
   ],
   "source": [
    "print(y_test2)"
   ]
  },
  {
   "cell_type": "code",
   "execution_count": 14,
   "metadata": {},
   "outputs": [],
   "source": [
    "from sklearn.model_selection import cross_val_score"
   ]
  },
  {
   "cell_type": "code",
   "execution_count": 15,
   "metadata": {},
   "outputs": [
    {
     "data": {
      "text/plain": [
       "0.6515170268846953"
      ]
     },
     "execution_count": 15,
     "metadata": {},
     "output_type": "execute_result"
    }
   ],
   "source": [
    "result = cross_val_score(model, x_train, y_train, scoring='roc_auc')\n",
    "result.mean()"
   ]
  },
  {
   "cell_type": "code",
   "execution_count": 29,
   "metadata": {},
   "outputs": [],
   "source": [
    "id = x_test['id']\n",
    "gaji = y_test2"
   ]
  },
  {
   "cell_type": "code",
   "execution_count": 30,
   "metadata": {},
   "outputs": [],
   "source": [
    "for index in range(len(gaji)):\n",
    "    if gaji[index]=='<=7jt':\n",
    "        gaji[index]='0'\n",
    "    elif gaji[index]=='>7jt':\n",
    "        gaji[index]='1'"
   ]
  },
  {
   "cell_type": "code",
   "execution_count": 31,
   "metadata": {},
   "outputs": [],
   "source": [
    "hasil = {'Id':id, 'Gaji':gaji}"
   ]
  },
  {
   "cell_type": "code",
   "execution_count": 32,
   "metadata": {},
   "outputs": [],
   "source": [
    "df_akhir = pd.DataFrame(hasil)"
   ]
  },
  {
   "cell_type": "code",
   "execution_count": 33,
   "metadata": {},
   "outputs": [
    {
     "data": {
      "text/html": [
       "<div>\n",
       "<style scoped>\n",
       "    .dataframe tbody tr th:only-of-type {\n",
       "        vertical-align: middle;\n",
       "    }\n",
       "\n",
       "    .dataframe tbody tr th {\n",
       "        vertical-align: top;\n",
       "    }\n",
       "\n",
       "    .dataframe thead th {\n",
       "        text-align: right;\n",
       "    }\n",
       "</style>\n",
       "<table border=\"1\" class=\"dataframe\">\n",
       "  <thead>\n",
       "    <tr style=\"text-align: right;\">\n",
       "      <th></th>\n",
       "      <th>Id</th>\n",
       "      <th>Gaji</th>\n",
       "    </tr>\n",
       "  </thead>\n",
       "  <tbody>\n",
       "    <tr>\n",
       "      <th>0</th>\n",
       "      <td>35994</td>\n",
       "      <td>0</td>\n",
       "    </tr>\n",
       "    <tr>\n",
       "      <th>1</th>\n",
       "      <td>35995</td>\n",
       "      <td>0</td>\n",
       "    </tr>\n",
       "    <tr>\n",
       "      <th>2</th>\n",
       "      <td>35996</td>\n",
       "      <td>0</td>\n",
       "    </tr>\n",
       "    <tr>\n",
       "      <th>3</th>\n",
       "      <td>35997</td>\n",
       "      <td>0</td>\n",
       "    </tr>\n",
       "    <tr>\n",
       "      <th>4</th>\n",
       "      <td>35998</td>\n",
       "      <td>0</td>\n",
       "    </tr>\n",
       "  </tbody>\n",
       "</table>\n",
       "</div>"
      ],
      "text/plain": [
       "      Id Gaji\n",
       "0  35994    0\n",
       "1  35995    0\n",
       "2  35996    0\n",
       "3  35997    0\n",
       "4  35998    0"
      ]
     },
     "execution_count": 33,
     "metadata": {},
     "output_type": "execute_result"
    }
   ],
   "source": [
    "df_akhir.head()"
   ]
  },
  {
   "cell_type": "code",
   "execution_count": 41,
   "metadata": {},
   "outputs": [],
   "source": [
    "df_akhir.to_csv('hasilAkhirTest.csv', index=False)"
   ]
  }
 ],
 "metadata": {
  "kernelspec": {
   "display_name": "Python 3",
   "language": "python",
   "name": "python3"
  },
  "language_info": {
   "codemirror_mode": {
    "name": "ipython",
    "version": 3
   },
   "file_extension": ".py",
   "mimetype": "text/x-python",
   "name": "python",
   "nbconvert_exporter": "python",
   "pygments_lexer": "ipython3",
   "version": "3.8.2"
  }
 },
 "nbformat": 4,
 "nbformat_minor": 4
}
