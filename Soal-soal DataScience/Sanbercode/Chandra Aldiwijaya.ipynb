{
 "cells": [
  {
   "cell_type": "markdown",
   "metadata": {},
   "source": [
    "# Nama : Chandra Aldiwijaya\n",
    "# Email : chandra.aldiwijaya.694@gmail.com\n",
    "\n",
    "# File Notebook untuk Machine Learning Competition"
   ]
  },
  {
   "cell_type": "code",
   "execution_count": null,
   "metadata": {},
   "outputs": [],
   "source": [
    "import numpy as np\n",
    "import pandas as pd\n",
    "\n",
    "#load data csv\n",
    "df1 = pd.read_csv('train.csv')\n",
    "df2 = pd.read_csv('test.csv')"
   ]
  },
  {
   "cell_type": "markdown",
   "metadata": {},
   "source": [
    "## Tahap pertama adalah memanipulasi data agar ia dapat diproses pada model machine learning selanjutnya"
   ]
  },
  {
   "cell_type": "code",
   "execution_count": null,
   "metadata": {},
   "outputs": [],
   "source": [
    "#Sebelum diload, saya sudah periksa data csv, dan ia mengandung data kosong dengan value string '?'\n",
    "#Replace data kosong dengan NaN\n",
    "df1 = df1.replace('?', np.nan)\n",
    "df2 = df2.replace('?', np.nan)"
   ]
  },
  {
   "cell_type": "code",
   "execution_count": null,
   "metadata": {},
   "outputs": [],
   "source": [
    "#Isi data NaN dengan method frontfill\n",
    "df1 = df1.fillna(method='ffill')\n",
    "df2 = df2.fillna(method='ffill')"
   ]
  },
  {
   "cell_type": "code",
   "execution_count": null,
   "metadata": {},
   "outputs": [],
   "source": [
    "#Encode data untuk kolom berisi data string\n",
    "df1 = pd.get_dummies(df1, columns=['Kelas Pekerja', 'Status Perkawinan',\n",
    "             'Pekerjaan'])\n",
    "df2 = pd.get_dummies(df2, columns=['Kelas Pekerja', 'Status Perkawinan',\n",
    "             'Pekerjaan'])"
   ]
  },
  {
   "cell_type": "code",
   "execution_count": null,
   "metadata": {},
   "outputs": [],
   "source": [
    "#Replace kolom pendidikan dengan data ordeal\n",
    "col1 = {'SD':1,'1st-4th':2, '5th-6th':3, '7th-8th':4, \n",
    "        '9th':5, '10th':6, '11th':7, '12th':8, 'SMA':9, \n",
    "        'Pendidikan Tinggi':10, 'D4':11, 'D3':12, 'Sarjana':13, \n",
    "        'Master':14, 'Sekolah Professional':15, 'Doktor':16 }\n",
    "df1['Pendidikan'] = df1['Pendidikan'].replace(col1)\n",
    "df2['Pendidikan'] = df2['Pendidikan'].replace(col1)"
   ]
  },
  {
   "cell_type": "code",
   "execution_count": null,
   "metadata": {},
   "outputs": [],
   "source": [
    "#replace kolom jenis kelamin dengan data ordeal\n",
    "col2 = {'Laki2':1, 'Perempuan':2}\n",
    "df1['Jenis Kelamin'] = df1['Jenis Kelamin'].replace(col2)\n",
    "df2['Jenis Kelamin'] = df2['Jenis Kelamin'].replace(col2)"
   ]
  },
  {
   "cell_type": "code",
   "execution_count": null,
   "metadata": {},
   "outputs": [],
   "source": [
    "#replace data label\n",
    "col3 = {'<=7jt':0, '>7jt':1}\n",
    "df1['Gaji'] = df1['Gaji'].replace(col3)"
   ]
  },
  {
   "cell_type": "markdown",
   "metadata": {},
   "source": [
    "## Untuk percobaan model, saya akan menggunakan dua model, yaitu KNN dan Decision Tree Regressor"
   ]
  },
  {
   "cell_type": "code",
   "execution_count": null,
   "metadata": {},
   "outputs": [],
   "source": [
    "from sklearn.neighbors import KNeighborsClassifier\n",
    "from sklearn.model_selection import GridSearchCV, RandomizedSearchCV"
   ]
  },
  {
   "cell_type": "code",
   "execution_count": null,
   "metadata": {},
   "outputs": [],
   "source": [
    "#Pemilihan data train, dan data test\n",
    "X_train = df1.drop('Gaji', axis=1)\n",
    "y_train = df1['Gaji']\n",
    "y_train = y_train\n",
    "\n",
    "X_test = df2"
   ]
  },
  {
   "cell_type": "markdown",
   "metadata": {},
   "source": [
    "### Model Pertama: KNN"
   ]
  },
  {
   "cell_type": "code",
   "execution_count": null,
   "metadata": {},
   "outputs": [],
   "source": [
    "#Percobaan pertama menggunakan model KNN\n",
    "#Ujicoba tuning hyperparameter KNN\n",
    "model = KNeighborsClassifier()\n",
    "param_grids = {\n",
    "    'n_neighbors':np.arange(10,40), \n",
    "    'weights': ['uniform','distance'], \n",
    "}\n",
    "rscv = RandomizedSearchCV(model, param_distributions=param_grids, n_iter=25, scoring='roc_auc', cv=5)\n",
    "rscv.fit(X_train,y_train)"
   ]
  },
  {
   "cell_type": "code",
   "execution_count": null,
   "metadata": {},
   "outputs": [],
   "source": [
    "#dapatkan hyperparameter terbaik\n",
    "rscv.best_params_"
   ]
  },
  {
   "cell_type": "code",
   "execution_count": null,
   "metadata": {},
   "outputs": [],
   "source": [
    "#dapatkan score terbaik\n",
    "rscv.best_score_"
   ]
  },
  {
   "cell_type": "code",
   "execution_count": null,
   "metadata": {},
   "outputs": [],
   "source": [
    "#Gunakan hyperparameter terbaik setelah tuning pada model KNN\n",
    "model = KNeighborsClassifier(n_neighbors=24, weights='distance')\n",
    "model.fit(X_train, y_train)"
   ]
  },
  {
   "cell_type": "code",
   "execution_count": null,
   "metadata": {},
   "outputs": [],
   "source": [
    "#prediksi data test model KNN\n",
    "y_pred = model.predict(X_test)"
   ]
  },
  {
   "cell_type": "code",
   "execution_count": null,
   "metadata": {},
   "outputs": [],
   "source": [
    "#Ubah data test menjadi data Frame\n",
    "cek = pd.DataFrame(y_pred, columns=['Gaji'])"
   ]
  },
  {
   "cell_type": "code",
   "execution_count": null,
   "metadata": {},
   "outputs": [],
   "source": [
    "#Simpan data test pada file csv\n",
    "#Input index di sini masih dimulai dari nol\n",
    "#Untuk urutan index dimulai dari 35994 diinput manual pada saat membuka file csv\n",
    "cek.to_csv('prediction1.csv')"
   ]
  },
  {
   "cell_type": "markdown",
   "metadata": {},
   "source": [
    "### Model Kedua: Decision Tree Regressor"
   ]
  },
  {
   "cell_type": "code",
   "execution_count": null,
   "metadata": {},
   "outputs": [],
   "source": [
    "from sklearn.tree import DecisionTreeRegressor"
   ]
  },
  {
   "cell_type": "code",
   "execution_count": null,
   "metadata": {},
   "outputs": [],
   "source": [
    "#Percobaan kedua menggunakan model Decision Tree Regressor\n",
    "#Ujicoba tuning hyperparameter Decision Tree Regressor\n",
    "#Untuk menghemat waktu, saya lakukan per-penilaian per-parameter. Selalu didapat untuk max depth nilai 8 adalah terbaik\n",
    "#Begitu pula nilai hyperparameter selanjutnya\n",
    "model2 = DecisionTreeRegressor()\n",
    "param2_grids = {\n",
    "    'max_depth':np.arange(1,10),\n",
    "    'min_samples_split':[5],\n",
    "    'min_samples_leaf':np.arange(1,5)\n",
    "}\n",
    "gscv = GridSearchCV(model2, param_grid=param2_grids, scoring='roc_auc', cv=10)\n",
    "gscv.fit(X_train,y_train)"
   ]
  },
  {
   "cell_type": "code",
   "execution_count": null,
   "metadata": {},
   "outputs": [],
   "source": [
    "#dapatkan hyperparameter terbaik\n",
    "gscv.best_params_"
   ]
  },
  {
   "cell_type": "code",
   "execution_count": null,
   "metadata": {},
   "outputs": [],
   "source": [
    "#dapatkan score terbaik\n",
    "gscv.best_score_"
   ]
  },
  {
   "cell_type": "code",
   "execution_count": null,
   "metadata": {},
   "outputs": [],
   "source": [
    "#Gunakan hyperparameter terbaik setelah tuning pada model Decision Tree Regressor\n",
    "model2 = DecisionTreeRegressor(max_depth=8, min_samples_leaf=3, min_samples_split=5)\n",
    "model2.fit(X_train, y_train)"
   ]
  },
  {
   "cell_type": "code",
   "execution_count": null,
   "metadata": {},
   "outputs": [],
   "source": [
    "#prediksi data test model Decision Tree Regressor\n",
    "y_pred = model2.predict(X_test)"
   ]
  },
  {
   "cell_type": "code",
   "execution_count": null,
   "metadata": {},
   "outputs": [],
   "source": [
    "#Ubah data test menjadi data Frame\n",
    "cek = pd.DataFrame(y_pred, columns=['Gaji'])"
   ]
  },
  {
   "cell_type": "code",
   "execution_count": null,
   "metadata": {},
   "outputs": [],
   "source": [
    "#Simpan data test pada file csv\n",
    "#Input index di sini masih dimulai dari nol\n",
    "#Untuk urutan index dimulai dari 35994 diinput manual pada saat membuka file csv\n",
    "cek.to_csv('prediction2.csv')"
   ]
  },
  {
   "cell_type": "markdown",
   "metadata": {},
   "source": [
    "## Sejauh ini pada percobaan saya, model Decision Tree Regressor menghasilkan scoring lebih besar dibandingkan dengan model KNN. Dapat dikatakan bahwa, model Decision Tree Regressor adalah model yang cocok untuk data ini."
   ]
  }
 ],
 "metadata": {
  "kernelspec": {
   "display_name": "Python 3",
   "language": "python",
   "name": "python3"
  },
  "language_info": {
   "codemirror_mode": {
    "name": "ipython",
    "version": 3
   },
   "file_extension": ".py",
   "mimetype": "text/x-python",
   "name": "python",
   "nbconvert_exporter": "python",
   "pygments_lexer": "ipython3",
   "version": "3.8.2"
  }
 },
 "nbformat": 4,
 "nbformat_minor": 4
}
