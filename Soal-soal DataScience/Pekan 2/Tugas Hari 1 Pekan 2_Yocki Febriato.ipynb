{
 "cells": [
  {
   "cell_type": "markdown",
   "metadata": {
    "colab_type": "text",
    "id": "s6LccGLI5deK"
   },
   "source": [
    "<h2>Soal 1: Membuat Objek DataFrames</h2>\n",
    "\n",
    "- Buatlah objek dataframes dari objek dictionary, Bebas!"
   ]
  },
  {
   "cell_type": "code",
   "execution_count": 2,
   "metadata": {
    "colab": {},
    "colab_type": "code",
    "id": "V2jNr8n-5deM"
   },
   "outputs": [
    {
     "name": "stdout",
     "output_type": "stream",
     "text": [
      "isi direktori adalah: \n",
      "{'tipe_int': [1, 2, 3, 4, 5], 'tipe_string': ['a', 'b', 'c', 'd', 'e']}\n",
      "\n",
      "isi data frame adalah:\n",
      "   tipe_int tipe_string\n",
      "0         1           a\n",
      "1         2           b\n",
      "2         3           c\n",
      "3         4           d\n",
      "4         5           e\n"
     ]
    }
   ],
   "source": [
    "# Membuat dataframes dari dictionary\n",
    "import pandas as pd\n",
    "\n",
    "# Directory\n",
    "dir = {'tipe_int' : [1,2,3,4,5], 'tipe_string' : ['a','b','c','d','e']}\n",
    "#DataFrame\n",
    "df = pd.DataFrame(dir)\n",
    "print(\"isi direktori adalah: \")\n",
    "print(dir)\n",
    "print(\"\")\n",
    "print(\"isi data frame adalah:\")\n",
    "print(df)"
   ]
  },
  {
   "cell_type": "markdown",
   "metadata": {
    "colab_type": "text",
    "id": "KWEFNf9B5deX"
   },
   "source": [
    "<h2>Soal 2: Membaca data dari file</h2>\n",
    "\n",
    "Download file bernama [diamonds.csv](https://drive.google.com/uc?export=download&id=1qQiM9utQUThTPq8jk8stPMh_y2zfqYOd), kemudian baca data tersebut dan assign ke dalam suatu variabel kemudian print."
   ]
  },
  {
   "cell_type": "code",
   "execution_count": 4,
   "metadata": {
    "colab": {},
    "colab_type": "code",
    "id": "Jy2KtDNs5deZ"
   },
   "outputs": [
    {
     "data": {
      "text/html": [
       "<div>\n",
       "<style scoped>\n",
       "    .dataframe tbody tr th:only-of-type {\n",
       "        vertical-align: middle;\n",
       "    }\n",
       "\n",
       "    .dataframe tbody tr th {\n",
       "        vertical-align: top;\n",
       "    }\n",
       "\n",
       "    .dataframe thead th {\n",
       "        text-align: right;\n",
       "    }\n",
       "</style>\n",
       "<table border=\"1\" class=\"dataframe\">\n",
       "  <thead>\n",
       "    <tr style=\"text-align: right;\">\n",
       "      <th></th>\n",
       "      <th>Unnamed: 0</th>\n",
       "      <th>carat</th>\n",
       "      <th>cut</th>\n",
       "      <th>color</th>\n",
       "      <th>clarity</th>\n",
       "      <th>depth</th>\n",
       "      <th>table</th>\n",
       "      <th>price</th>\n",
       "      <th>x</th>\n",
       "      <th>y</th>\n",
       "      <th>z</th>\n",
       "    </tr>\n",
       "  </thead>\n",
       "  <tbody>\n",
       "    <tr>\n",
       "      <th>0</th>\n",
       "      <td>1</td>\n",
       "      <td>0.23</td>\n",
       "      <td>Ideal</td>\n",
       "      <td>E</td>\n",
       "      <td>SI2</td>\n",
       "      <td>61.5</td>\n",
       "      <td>55.0</td>\n",
       "      <td>326.0</td>\n",
       "      <td>3.95</td>\n",
       "      <td>3.98</td>\n",
       "      <td>2.43</td>\n",
       "    </tr>\n",
       "    <tr>\n",
       "      <th>1</th>\n",
       "      <td>2</td>\n",
       "      <td>0.21</td>\n",
       "      <td>Premium</td>\n",
       "      <td>E</td>\n",
       "      <td>SI1</td>\n",
       "      <td>59.8</td>\n",
       "      <td>61.0</td>\n",
       "      <td>326.0</td>\n",
       "      <td>3.89</td>\n",
       "      <td>3.84</td>\n",
       "      <td>2.31</td>\n",
       "    </tr>\n",
       "    <tr>\n",
       "      <th>2</th>\n",
       "      <td>3</td>\n",
       "      <td>0.23</td>\n",
       "      <td>Good</td>\n",
       "      <td>E</td>\n",
       "      <td>VS1</td>\n",
       "      <td>56.9</td>\n",
       "      <td>65.0</td>\n",
       "      <td>327.0</td>\n",
       "      <td>4.05</td>\n",
       "      <td>4.07</td>\n",
       "      <td>2.31</td>\n",
       "    </tr>\n",
       "    <tr>\n",
       "      <th>3</th>\n",
       "      <td>4</td>\n",
       "      <td>0.29</td>\n",
       "      <td>Premium</td>\n",
       "      <td>I</td>\n",
       "      <td>VS2</td>\n",
       "      <td>62.4</td>\n",
       "      <td>58.0</td>\n",
       "      <td>334.0</td>\n",
       "      <td>4.20</td>\n",
       "      <td>4.23</td>\n",
       "      <td>2.63</td>\n",
       "    </tr>\n",
       "    <tr>\n",
       "      <th>4</th>\n",
       "      <td>5</td>\n",
       "      <td>0.31</td>\n",
       "      <td>Good</td>\n",
       "      <td>J</td>\n",
       "      <td>SI2</td>\n",
       "      <td>63.3</td>\n",
       "      <td>58.0</td>\n",
       "      <td>335.0</td>\n",
       "      <td>4.34</td>\n",
       "      <td>4.35</td>\n",
       "      <td>2.75</td>\n",
       "    </tr>\n",
       "    <tr>\n",
       "      <th>...</th>\n",
       "      <td>...</td>\n",
       "      <td>...</td>\n",
       "      <td>...</td>\n",
       "      <td>...</td>\n",
       "      <td>...</td>\n",
       "      <td>...</td>\n",
       "      <td>...</td>\n",
       "      <td>...</td>\n",
       "      <td>...</td>\n",
       "      <td>...</td>\n",
       "      <td>...</td>\n",
       "    </tr>\n",
       "    <tr>\n",
       "      <th>6482</th>\n",
       "      <td>6483</td>\n",
       "      <td>1.22</td>\n",
       "      <td>Very Good</td>\n",
       "      <td>J</td>\n",
       "      <td>SI2</td>\n",
       "      <td>62.2</td>\n",
       "      <td>60.0</td>\n",
       "      <td>4058.0</td>\n",
       "      <td>6.77</td>\n",
       "      <td>6.89</td>\n",
       "      <td>4.25</td>\n",
       "    </tr>\n",
       "    <tr>\n",
       "      <th>6483</th>\n",
       "      <td>6484</td>\n",
       "      <td>1.24</td>\n",
       "      <td>Fair</td>\n",
       "      <td>G</td>\n",
       "      <td>SI2</td>\n",
       "      <td>65.7</td>\n",
       "      <td>57.0</td>\n",
       "      <td>4058.0</td>\n",
       "      <td>6.72</td>\n",
       "      <td>6.68</td>\n",
       "      <td>4.40</td>\n",
       "    </tr>\n",
       "    <tr>\n",
       "      <th>6484</th>\n",
       "      <td>6485</td>\n",
       "      <td>0.90</td>\n",
       "      <td>Very Good</td>\n",
       "      <td>G</td>\n",
       "      <td>SI1</td>\n",
       "      <td>62.7</td>\n",
       "      <td>59.0</td>\n",
       "      <td>4059.0</td>\n",
       "      <td>6.12</td>\n",
       "      <td>6.17</td>\n",
       "      <td>3.85</td>\n",
       "    </tr>\n",
       "    <tr>\n",
       "      <th>6485</th>\n",
       "      <td>6486</td>\n",
       "      <td>1.04</td>\n",
       "      <td>Ideal</td>\n",
       "      <td>J</td>\n",
       "      <td>SI1</td>\n",
       "      <td>60.8</td>\n",
       "      <td>57.0</td>\n",
       "      <td>4059.0</td>\n",
       "      <td>6.54</td>\n",
       "      <td>6.59</td>\n",
       "      <td>3.99</td>\n",
       "    </tr>\n",
       "    <tr>\n",
       "      <th>6486</th>\n",
       "      <td>6487</td>\n",
       "      <td>0.90</td>\n",
       "      <td>Ideal</td>\n",
       "      <td>G</td>\n",
       "      <td>NaN</td>\n",
       "      <td>NaN</td>\n",
       "      <td>NaN</td>\n",
       "      <td>NaN</td>\n",
       "      <td>NaN</td>\n",
       "      <td>NaN</td>\n",
       "      <td>NaN</td>\n",
       "    </tr>\n",
       "  </tbody>\n",
       "</table>\n",
       "<p>6487 rows × 11 columns</p>\n",
       "</div>"
      ],
      "text/plain": [
       "      Unnamed: 0  carat        cut color clarity  depth  table   price     x  \\\n",
       "0              1   0.23      Ideal     E     SI2   61.5   55.0   326.0  3.95   \n",
       "1              2   0.21    Premium     E     SI1   59.8   61.0   326.0  3.89   \n",
       "2              3   0.23       Good     E     VS1   56.9   65.0   327.0  4.05   \n",
       "3              4   0.29    Premium     I     VS2   62.4   58.0   334.0  4.20   \n",
       "4              5   0.31       Good     J     SI2   63.3   58.0   335.0  4.34   \n",
       "...          ...    ...        ...   ...     ...    ...    ...     ...   ...   \n",
       "6482        6483   1.22  Very Good     J     SI2   62.2   60.0  4058.0  6.77   \n",
       "6483        6484   1.24       Fair     G     SI2   65.7   57.0  4058.0  6.72   \n",
       "6484        6485   0.90  Very Good     G     SI1   62.7   59.0  4059.0  6.12   \n",
       "6485        6486   1.04      Ideal     J     SI1   60.8   57.0  4059.0  6.54   \n",
       "6486        6487   0.90      Ideal     G     NaN    NaN    NaN     NaN   NaN   \n",
       "\n",
       "         y     z  \n",
       "0     3.98  2.43  \n",
       "1     3.84  2.31  \n",
       "2     4.07  2.31  \n",
       "3     4.23  2.63  \n",
       "4     4.35  2.75  \n",
       "...    ...   ...  \n",
       "6482  6.89  4.25  \n",
       "6483  6.68  4.40  \n",
       "6484  6.17  3.85  \n",
       "6485  6.59  3.99  \n",
       "6486   NaN   NaN  \n",
       "\n",
       "[6487 rows x 11 columns]"
      ]
     },
     "execution_count": 4,
     "metadata": {},
     "output_type": "execute_result"
    }
   ],
   "source": [
    "# Membaca data dan memasukannya kedalam suatu variabel\n",
    "import pandas as pd\n",
    "df_from_csv = pd.read_csv('diamonds.csv', delimiter = \",\")\n",
    "df_from_csv"
   ]
  },
  {
   "cell_type": "markdown",
   "metadata": {
    "colab_type": "text",
    "id": "1o9m_N295del"
   },
   "source": [
    "Expected Result:\n",
    "\n",
    "![alt text](https://drive.google.com/uc?id=1BvgM5mJEVfj0fllrjkBfQwn0QIFkry_t)"
   ]
  },
  {
   "cell_type": "markdown",
   "metadata": {
    "colab_type": "text",
    "id": "LtLWF_Ot5deo"
   },
   "source": [
    "<h2>Soal 3: DataFrame vs Series</h2>\n",
    "\n",
    "- Apa perbedaan Series dengan list dan dictionary\n",
    "- Apa perbedaan dataframe dan series\n",
    "- Buatlah suatu data series"
   ]
  },
  {
   "cell_type": "markdown",
   "metadata": {
    "colab_type": "text",
    "id": "6F2EDcPp5der"
   },
   "source": [
    "Jawab: \n",
    "Series bisa dibilang hampir sama seperti list dan berbeda dengan dictionary, karena Series dan list sama-sama berbentuk 1 dimensi hanya saja Series hanya bisa menggunakan pandas. Tidak seperti list dan dictionary bisa langsung menggunakan python tanpa module pandas.\n",
    "\n",
    "perbedaan antara dataframe dan series adalah pada dataframe isi datanya bersifat 2 dimensi, sedangkan pada series bersifat 1 dimensi"
   ]
  },
  {
   "cell_type": "code",
   "execution_count": 5,
   "metadata": {
    "colab": {},
    "colab_type": "code",
    "id": "RBPrIKlZ5dev"
   },
   "outputs": [
    {
     "name": "stdout",
     "output_type": "stream",
     "text": [
      "a    1\n",
      "b    3\n",
      "c    5\n",
      "d    7\n",
      "e    9\n",
      "dtype: int64\n"
     ]
    }
   ],
   "source": [
    "# code here\n",
    "import pandas as pd\n",
    "pan_series = pd.Series([1,3,5,7,9], index=['a','b','c','d','e'])\n",
    "print(pan_series)"
   ]
  },
  {
   "cell_type": "markdown",
   "metadata": {
    "colab_type": "text",
    "id": "JNuHgN945de8"
   },
   "source": [
    "<h2>Soal 4: Pemeriksaan Data Sederhana</h2>\n",
    "\n",
    "Di soal no 2 kamu telah membaca data tentang diamonds. pada soal ini cobalah suatu metode dari pandas untuk mengetahui beberapa data pertama dan beberapa data terakhir. kemudian sebutkan nilai dari:\n",
    "- baris pertama dari column price\n",
    "- baris terakhir dari column color\n",
    "\n",
    "tunjukan cara kalian menemukan nilai tersebut di block di bawah ini."
   ]
  },
  {
   "cell_type": "code",
   "execution_count": 6,
   "metadata": {
    "colab": {},
    "colab_type": "code",
    "id": "MRvNarxL5de-"
   },
   "outputs": [
    {
     "data": {
      "text/plain": [
       "0    326.0\n",
       "Name: price, dtype: float64"
      ]
     },
     "execution_count": 6,
     "metadata": {},
     "output_type": "execute_result"
    }
   ],
   "source": [
    "# code here\n",
    "price = df_from_csv['price']\n",
    "price.head(1)"
   ]
  },
  {
   "cell_type": "code",
   "execution_count": 7,
   "metadata": {},
   "outputs": [
    {
     "data": {
      "text/plain": [
       "6486    G\n",
       "Name: color, dtype: object"
      ]
     },
     "execution_count": 7,
     "metadata": {},
     "output_type": "execute_result"
    }
   ],
   "source": [
    "color = df_from_csv['color']\n",
    "color.tail(1)"
   ]
  },
  {
   "cell_type": "markdown",
   "metadata": {
    "colab_type": "text",
    "id": "q-u9QIjJ5dfK"
   },
   "source": [
    "<h2>Soal 5: Deskriptif Statistik</h2>\n",
    "\n",
    "Jelaskan apa itu deskriptis statistik!"
   ]
  },
  {
   "cell_type": "markdown",
   "metadata": {
    "colab_type": "text",
    "id": "iKTeB5Gd5dfM"
   },
   "source": [
    "Jawab: metode dari pengorganisasian, penjumlahan, dan penyajian data dalam sebuah cara yang nyaman dan informatif, termasuk teknik grafik, dan teknik penghitungan. Statistik deskriptif dapat mendeskripsikan data yang sedang dianalisis, tetapi tidak boleh menarik kesimpulan apapun dari data."
   ]
  },
  {
   "cell_type": "markdown",
   "metadata": {
    "colab_type": "text",
    "id": "5SKD0rNu5dfP"
   },
   "source": [
    "<h2>Soal 6: Practice Deskriptif Statistik</h2>\n",
    "\n",
    "- Gunakan suatu metode dari pandas untuk mengetahui deskriptif statistik dari suatu data\n",
    "- Berapa nilai rata-rata dari column price\n",
    "- Berapa nilai standar deviasi dari column depth\n",
    "- Berapa nilai maximum dari column carat"
   ]
  },
  {
   "cell_type": "code",
   "execution_count": 12,
   "metadata": {},
   "outputs": [
    {
     "data": {
      "text/html": [
       "<div>\n",
       "<style scoped>\n",
       "    .dataframe tbody tr th:only-of-type {\n",
       "        vertical-align: middle;\n",
       "    }\n",
       "\n",
       "    .dataframe tbody tr th {\n",
       "        vertical-align: top;\n",
       "    }\n",
       "\n",
       "    .dataframe thead th {\n",
       "        text-align: right;\n",
       "    }\n",
       "</style>\n",
       "<table border=\"1\" class=\"dataframe\">\n",
       "  <thead>\n",
       "    <tr style=\"text-align: right;\">\n",
       "      <th></th>\n",
       "      <th>Unnamed: 0</th>\n",
       "      <th>carat</th>\n",
       "      <th>depth</th>\n",
       "      <th>table</th>\n",
       "      <th>price</th>\n",
       "      <th>x</th>\n",
       "      <th>y</th>\n",
       "      <th>z</th>\n",
       "    </tr>\n",
       "  </thead>\n",
       "  <tbody>\n",
       "    <tr>\n",
       "      <th>count</th>\n",
       "      <td>6487.00000</td>\n",
       "      <td>6487.000000</td>\n",
       "      <td>6486.000000</td>\n",
       "      <td>6486.000000</td>\n",
       "      <td>6486.000000</td>\n",
       "      <td>6486.000000</td>\n",
       "      <td>6486.000000</td>\n",
       "      <td>6486.000000</td>\n",
       "    </tr>\n",
       "    <tr>\n",
       "      <th>mean</th>\n",
       "      <td>3244.00000</td>\n",
       "      <td>0.792539</td>\n",
       "      <td>61.859297</td>\n",
       "      <td>57.728970</td>\n",
       "      <td>3073.217700</td>\n",
       "      <td>5.862063</td>\n",
       "      <td>5.862949</td>\n",
       "      <td>3.624252</td>\n",
       "    </tr>\n",
       "    <tr>\n",
       "      <th>std</th>\n",
       "      <td>1872.77993</td>\n",
       "      <td>0.216498</td>\n",
       "      <td>1.670383</td>\n",
       "      <td>2.373592</td>\n",
       "      <td>946.945215</td>\n",
       "      <td>0.621652</td>\n",
       "      <td>0.610162</td>\n",
       "      <td>0.399987</td>\n",
       "    </tr>\n",
       "    <tr>\n",
       "      <th>min</th>\n",
       "      <td>1.00000</td>\n",
       "      <td>0.200000</td>\n",
       "      <td>43.000000</td>\n",
       "      <td>49.000000</td>\n",
       "      <td>326.000000</td>\n",
       "      <td>3.790000</td>\n",
       "      <td>3.750000</td>\n",
       "      <td>0.000000</td>\n",
       "    </tr>\n",
       "    <tr>\n",
       "      <th>25%</th>\n",
       "      <td>1622.50000</td>\n",
       "      <td>0.710000</td>\n",
       "      <td>61.000000</td>\n",
       "      <td>56.000000</td>\n",
       "      <td>2915.000000</td>\n",
       "      <td>5.720000</td>\n",
       "      <td>5.750000</td>\n",
       "      <td>3.530000</td>\n",
       "    </tr>\n",
       "    <tr>\n",
       "      <th>50%</th>\n",
       "      <td>3244.00000</td>\n",
       "      <td>0.800000</td>\n",
       "      <td>61.900000</td>\n",
       "      <td>57.000000</td>\n",
       "      <td>3278.500000</td>\n",
       "      <td>5.960000</td>\n",
       "      <td>5.960000</td>\n",
       "      <td>3.680000</td>\n",
       "    </tr>\n",
       "    <tr>\n",
       "      <th>75%</th>\n",
       "      <td>4865.50000</td>\n",
       "      <td>0.910000</td>\n",
       "      <td>62.700000</td>\n",
       "      <td>59.000000</td>\n",
       "      <td>3674.000000</td>\n",
       "      <td>6.230000</td>\n",
       "      <td>6.230000</td>\n",
       "      <td>3.870000</td>\n",
       "    </tr>\n",
       "    <tr>\n",
       "      <th>max</th>\n",
       "      <td>6487.00000</td>\n",
       "      <td>1.520000</td>\n",
       "      <td>71.600000</td>\n",
       "      <td>70.000000</td>\n",
       "      <td>4059.000000</td>\n",
       "      <td>7.560000</td>\n",
       "      <td>7.420000</td>\n",
       "      <td>4.800000</td>\n",
       "    </tr>\n",
       "  </tbody>\n",
       "</table>\n",
       "</div>"
      ],
      "text/plain": [
       "       Unnamed: 0        carat        depth        table        price  \\\n",
       "count  6487.00000  6487.000000  6486.000000  6486.000000  6486.000000   \n",
       "mean   3244.00000     0.792539    61.859297    57.728970  3073.217700   \n",
       "std    1872.77993     0.216498     1.670383     2.373592   946.945215   \n",
       "min       1.00000     0.200000    43.000000    49.000000   326.000000   \n",
       "25%    1622.50000     0.710000    61.000000    56.000000  2915.000000   \n",
       "50%    3244.00000     0.800000    61.900000    57.000000  3278.500000   \n",
       "75%    4865.50000     0.910000    62.700000    59.000000  3674.000000   \n",
       "max    6487.00000     1.520000    71.600000    70.000000  4059.000000   \n",
       "\n",
       "                 x            y            z  \n",
       "count  6486.000000  6486.000000  6486.000000  \n",
       "mean      5.862063     5.862949     3.624252  \n",
       "std       0.621652     0.610162     0.399987  \n",
       "min       3.790000     3.750000     0.000000  \n",
       "25%       5.720000     5.750000     3.530000  \n",
       "50%       5.960000     5.960000     3.680000  \n",
       "75%       6.230000     6.230000     3.870000  \n",
       "max       7.560000     7.420000     4.800000  "
      ]
     },
     "execution_count": 12,
     "metadata": {},
     "output_type": "execute_result"
    }
   ],
   "source": [
    "#code here\n",
    "df_from_csv.describe()"
   ]
  },
  {
   "cell_type": "code",
   "execution_count": 11,
   "metadata": {
    "colab": {},
    "colab_type": "code",
    "id": "giNtJG9Y5dfS"
   },
   "outputs": [
    {
     "name": "stdout",
     "output_type": "stream",
     "text": [
      "nilai rata - rata dari column price adalah\n"
     ]
    },
    {
     "data": {
      "text/plain": [
       "3073.2176996608077"
      ]
     },
     "execution_count": 11,
     "metadata": {},
     "output_type": "execute_result"
    }
   ],
   "source": [
    "print('nilai rata - rata dari column price adalah')\n",
    "price.mean()"
   ]
  },
  {
   "cell_type": "code",
   "execution_count": 9,
   "metadata": {},
   "outputs": [
    {
     "name": "stdout",
     "output_type": "stream",
     "text": [
      "nilai standar deviasi dari column depth adalah\n"
     ]
    },
    {
     "data": {
      "text/plain": [
       "1.6703830554400516"
      ]
     },
     "execution_count": 9,
     "metadata": {},
     "output_type": "execute_result"
    }
   ],
   "source": [
    "print('nilai standar deviasi dari column depth adalah')\n",
    "depth = df_from_csv['depth']\n",
    "depth.std()"
   ]
  },
  {
   "cell_type": "code",
   "execution_count": 10,
   "metadata": {},
   "outputs": [
    {
     "name": "stdout",
     "output_type": "stream",
     "text": [
      "nilai max dari column carat adalah\n"
     ]
    },
    {
     "data": {
      "text/plain": [
       "1.52"
      ]
     },
     "execution_count": 10,
     "metadata": {},
     "output_type": "execute_result"
    }
   ],
   "source": [
    "print('nilai max dari column carat adalah')\n",
    "carat = df_from_csv['carat']\n",
    "carat.max()"
   ]
  },
  {
   "cell_type": "markdown",
   "metadata": {
    "colab_type": "text",
    "id": "M6miZVtG5dfd"
   },
   "source": [
    "Jawab:\n",
    "1. nilai rata - rata dari column price adalah 3073.2176996608077\n",
    "2. nilai standar deviasi dari column depth adalah 1.6703830554400516\n",
    "3. nilai max dari column carat adalah 1.52"
   ]
  }
 ],
 "metadata": {
  "colab": {
   "name": "Tugas Hari 1 Pekan 2.ipynb",
   "provenance": []
  },
  "kernelspec": {
   "display_name": "Python 3",
   "language": "python",
   "name": "python3"
  },
  "language_info": {
   "codemirror_mode": {
    "name": "ipython",
    "version": 3
   },
   "file_extension": ".py",
   "mimetype": "text/x-python",
   "name": "python",
   "nbconvert_exporter": "python",
   "pygments_lexer": "ipython3",
   "version": "3.6.9"
  }
 },
 "nbformat": 4,
 "nbformat_minor": 1
}
