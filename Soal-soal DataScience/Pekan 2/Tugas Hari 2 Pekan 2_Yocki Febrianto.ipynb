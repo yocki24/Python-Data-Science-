{
 "cells": [
  {
   "cell_type": "code",
   "execution_count": 15,
   "metadata": {
    "colab": {},
    "colab_type": "code",
    "id": "GyakVoXhBGrv",
    "outputId": "39b8ca38-73c2-4f96-a16b-9898575919b9"
   },
   "outputs": [
    {
     "data": {
      "text/html": [
       "<div>\n",
       "<style scoped>\n",
       "    .dataframe tbody tr th:only-of-type {\n",
       "        vertical-align: middle;\n",
       "    }\n",
       "\n",
       "    .dataframe tbody tr th {\n",
       "        vertical-align: top;\n",
       "    }\n",
       "\n",
       "    .dataframe thead th {\n",
       "        text-align: right;\n",
       "    }\n",
       "</style>\n",
       "<table border=\"1\" class=\"dataframe\">\n",
       "  <thead>\n",
       "    <tr style=\"text-align: right;\">\n",
       "      <th></th>\n",
       "      <th>siswa_id</th>\n",
       "      <th>pelajaran</th>\n",
       "      <th>nilai</th>\n",
       "      <th>jenis-kelamin</th>\n",
       "      <th>kelas</th>\n",
       "    </tr>\n",
       "  </thead>\n",
       "  <tbody>\n",
       "    <tr>\n",
       "      <th>0</th>\n",
       "      <td>1</td>\n",
       "      <td>Geologi</td>\n",
       "      <td>49</td>\n",
       "      <td>perempuan</td>\n",
       "      <td>12B</td>\n",
       "    </tr>\n",
       "    <tr>\n",
       "      <th>1</th>\n",
       "      <td>2</td>\n",
       "      <td>Biologi</td>\n",
       "      <td>77</td>\n",
       "      <td>perempuan</td>\n",
       "      <td>12D</td>\n",
       "    </tr>\n",
       "    <tr>\n",
       "      <th>2</th>\n",
       "      <td>3</td>\n",
       "      <td>Fisika</td>\n",
       "      <td>84</td>\n",
       "      <td>laki-laki</td>\n",
       "      <td>12A</td>\n",
       "    </tr>\n",
       "    <tr>\n",
       "      <th>3</th>\n",
       "      <td>4</td>\n",
       "      <td>Biologi</td>\n",
       "      <td>45</td>\n",
       "      <td>laki-laki</td>\n",
       "      <td>12D</td>\n",
       "    </tr>\n",
       "    <tr>\n",
       "      <th>4</th>\n",
       "      <td>5</td>\n",
       "      <td>Kimia</td>\n",
       "      <td>16</td>\n",
       "      <td>perempuan</td>\n",
       "      <td>12A</td>\n",
       "    </tr>\n",
       "  </tbody>\n",
       "</table>\n",
       "</div>"
      ],
      "text/plain": [
       "   siswa_id pelajaran  nilai jenis-kelamin kelas\n",
       "0         1   Geologi     49     perempuan   12B\n",
       "1         2   Biologi     77     perempuan   12D\n",
       "2         3    Fisika     84     laki-laki   12A\n",
       "3         4   Biologi     45     laki-laki   12D\n",
       "4         5     Kimia     16     perempuan   12A"
      ]
     },
     "execution_count": 15,
     "metadata": {},
     "output_type": "execute_result"
    }
   ],
   "source": [
    "# Persiapan membuat data\n",
    "import pandas as pd\n",
    "import random\n",
    "\n",
    "pelajaran = ['Matematika', 'Fisika', 'Biologi', 'Kimia', 'Geologi', 'Ekonomi']\n",
    "kelas = ['12A', '12B', '12C', '12D']\n",
    "\n",
    "hasil_nilai = {\n",
    "    'siswa_id' : range(1, 21),\n",
    "    'pelajaran' : [random.choice(pelajaran) for i in range(20)],\n",
    "    'nilai' : [random.choice(range(0, 100)) for i in range(20)],\n",
    "    'jenis-kelamin' : [random.choice(['laki-laki', 'perempuan']) for i in range(20)],\n",
    "    'kelas' : [random.choice(kelas) for i in range(20)]\n",
    "}\n",
    "\n",
    "df = pd.DataFrame(hasil_nilai)\n",
    "df.head()"
   ]
  },
  {
   "cell_type": "markdown",
   "metadata": {
    "colab_type": "text",
    "id": "aNoScqypBGr5"
   },
   "source": [
    "<h2>Soal 1: Indexing</h2>\n",
    "\n",
    "1. Lakukan indexing terhadap dataframe untuk mengakses column nilai dan kelas saja\n",
    "2. Lakukan indexing terhadap dataframe untuk mengakses row 5 sampai 10 beserta column pelajaran dan nilai"
   ]
  },
  {
   "cell_type": "code",
   "execution_count": 5,
   "metadata": {
    "colab": {},
    "colab_type": "code",
    "id": "rKmgvnS2BGr6"
   },
   "outputs": [
    {
     "name": "stdout",
     "output_type": "stream",
     "text": [
      "    nilai kelas\n",
      "0       7   12B\n",
      "1       8   12B\n",
      "2      91   12A\n",
      "3      17   12C\n",
      "4       7   12A\n",
      "5      63   12A\n",
      "6      77   12C\n",
      "7      36   12C\n",
      "8       9   12B\n",
      "9      84   12A\n",
      "10     60   12C\n",
      "11     69   12B\n",
      "12     49   12C\n",
      "13     47   12A\n",
      "14      9   12B\n",
      "15     35   12A\n",
      "16     27   12D\n",
      "17     94   12C\n",
      "18     91   12B\n",
      "19     92   12C\n"
     ]
    }
   ],
   "source": [
    "# code here\n",
    "data=df[['nilai', 'kelas']]\n",
    "print(data)"
   ]
  },
  {
   "cell_type": "code",
   "execution_count": 11,
   "metadata": {},
   "outputs": [
    {
     "name": "stdout",
     "output_type": "stream",
     "text": [
      "  pelajaran  nilai\n",
      "4   Ekonomi      7\n",
      "5   Ekonomi     63\n",
      "6     Kimia     77\n",
      "7   Ekonomi     36\n",
      "8   Ekonomi      9\n",
      "9     Kimia     84\n"
     ]
    }
   ],
   "source": [
    "data1=df[['pelajaran', 'nilai']]\n",
    "print(data1[4:10])"
   ]
  },
  {
   "cell_type": "markdown",
   "metadata": {
    "colab_type": "text",
    "id": "F55zUl5GBGr_"
   },
   "source": [
    "<h2>Soal 2: Filter DataFrame Dengan Boolean</h2>\n",
    "\n",
    "1. Tampilkan semua data siswa pada mata pelajaran Ekonomi dan Fisika\n",
    "2. Tampilkan semua data siswa yang mempunyai nilai lebih dari 50 di mata pelajaran Kimia \n",
    "3. Tampilkan semua data yang mempunyai nilai lebih dari 70, berjnis kelamin perempuan dan di kelas 12C"
   ]
  },
  {
   "cell_type": "code",
   "execution_count": 12,
   "metadata": {
    "colab": {},
    "colab_type": "code",
    "id": "eB5oSf_KBGsA",
    "scrolled": true
   },
   "outputs": [
    {
     "name": "stdout",
     "output_type": "stream",
     "text": [
      "    siswa_id pelajaran  nilai jenis-kelamin kelas\n",
      "0          1    Fisika      7     laki-laki   12B\n",
      "1          2    Fisika      8     laki-laki   12B\n",
      "4          5   Ekonomi      7     perempuan   12A\n",
      "5          6   Ekonomi     63     perempuan   12A\n",
      "7          8   Ekonomi     36     laki-laki   12C\n",
      "8          9   Ekonomi      9     laki-laki   12B\n",
      "11        12    Fisika     69     perempuan   12B\n",
      "12        13    Fisika     49     laki-laki   12C\n",
      "16        17    Fisika     27     laki-laki   12D\n"
     ]
    }
   ],
   "source": [
    "# code here\n",
    "ekonomi = df.pelajaran == 'Ekonomi'\n",
    "fisika = df.pelajaran == 'Fisika'\n",
    "print(df[(ekonomi) | (fisika)])"
   ]
  },
  {
   "cell_type": "code",
   "execution_count": 13,
   "metadata": {},
   "outputs": [
    {
     "name": "stdout",
     "output_type": "stream",
     "text": [
      "   siswa_id pelajaran  nilai jenis-kelamin kelas\n",
      "2         3     Kimia     91     laki-laki   12A\n",
      "6         7     Kimia     77     laki-laki   12C\n",
      "9        10     Kimia     84     perempuan   12A\n"
     ]
    }
   ],
   "source": [
    "kimia = df.pelajaran == 'Kimia'\n",
    "nilai_50 = df.nilai > 50\n",
    "print(df[(nilai_50) & (kimia)])"
   ]
  },
  {
   "cell_type": "code",
   "execution_count": 16,
   "metadata": {},
   "outputs": [
    {
     "name": "stdout",
     "output_type": "stream",
     "text": [
      "    siswa_id pelajaran  nilai jenis-kelamin kelas\n",
      "13        14    Fisika     76     perempuan   12C\n"
     ]
    }
   ],
   "source": [
    "nilai = df.nilai > 70\n",
    "kelamin = df['jenis-kelamin'] == 'perempuan'\n",
    "kelas = df.kelas == '12C'\n",
    "print(df[(nilai) & (kelamin) & (kelas)])"
   ]
  },
  {
   "cell_type": "markdown",
   "metadata": {
    "colab_type": "text",
    "id": "6Od6R3H1BGsE"
   },
   "source": [
    "<h2>Soal 3: Data Transformation</h2>\n",
    "\n",
    "lakukan data transformasi terhadap column 'nilai' dengan fungsi transformasi, berikut rumus dari normalisasi\n",
    "\n",
    "![alt text](https://drive.google.com/uc?id=1wed-EbRSTA0JP1ceDp6lcKBqH2yJ4aa3)"
   ]
  },
  {
   "cell_type": "code",
   "execution_count": 17,
   "metadata": {
    "colab": {},
    "colab_type": "code",
    "id": "qeV_iH8nBGsF"
   },
   "outputs": [
    {
     "name": "stdout",
     "output_type": "stream",
     "text": [
      "daftar kolom nilai sebelum dirubah: \n",
      "0     49\n",
      "1     77\n",
      "2     84\n",
      "3     45\n",
      "4     16\n",
      "5     64\n",
      "6     54\n",
      "7     34\n",
      "8     57\n",
      "9     54\n",
      "10    57\n",
      "11     9\n",
      "12    67\n",
      "13    76\n",
      "14    54\n",
      "15    67\n",
      "16    99\n",
      "17     8\n",
      "18    94\n",
      "19    85\n",
      "Name: nilai, dtype: int64\n",
      "nilai tertinggi: \n",
      "99\n",
      "nilai terendah: \n",
      "8\n",
      "daftar kolom nilai setelah dirubah: \n",
      "       nilai\n",
      "0   0.450549\n",
      "1   0.758242\n",
      "2   0.835165\n",
      "3   0.406593\n",
      "4   0.087912\n",
      "5   0.615385\n",
      "6   0.505495\n",
      "7   0.285714\n",
      "8   0.538462\n",
      "9   0.505495\n",
      "10  0.538462\n",
      "11  0.010989\n",
      "12  0.648352\n",
      "13  0.747253\n",
      "14  0.505495\n",
      "15  0.648352\n",
      "16  1.000000\n",
      "17  0.000000\n",
      "18  0.945055\n",
      "19  0.846154\n"
     ]
    }
   ],
   "source": [
    "# code here\n",
    "print(\"daftar kolom nilai sebelum dirubah: \")\n",
    "print(df.nilai)\n",
    "print(\"nilai tertinggi: \")\n",
    "print(df.nilai.max())\n",
    "print(\"nilai terendah: \")\n",
    "print(df.nilai.min())\n",
    "print(\"daftar kolom nilai setelah dirubah: \")\n",
    "def xnormalize(x):\n",
    "    return (x - x.min()) / (x.max() - x.min())\n",
    "print(df[['nilai']].apply(xnormalize))"
   ]
  }
 ],
 "metadata": {
  "colab": {
   "name": "Tugas Hari 2 Pekan 2.ipynb",
   "provenance": []
  },
  "kernelspec": {
   "display_name": "Python 3",
   "language": "python",
   "name": "python3"
  },
  "language_info": {
   "codemirror_mode": {
    "name": "ipython",
    "version": 3
   },
   "file_extension": ".py",
   "mimetype": "text/x-python",
   "name": "python",
   "nbconvert_exporter": "python",
   "pygments_lexer": "ipython3",
   "version": "3.6.9"
  }
 },
 "nbformat": 4,
 "nbformat_minor": 1
}
